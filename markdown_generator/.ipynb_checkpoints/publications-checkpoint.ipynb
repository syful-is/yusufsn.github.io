{
 "cells": [
  {
   "cell_type": "markdown",
   "metadata": {},
   "source": [
    "# Publications markdown generator for academicpages\n",
    "\n",
    "Takes a TSV of publications with metadata and converts them for use with [academicpages.github.io](academicpages.github.io). This is an interactive Jupyter notebook ([see more info here](http://jupyter-notebook-beginner-guide.readthedocs.io/en/latest/what_is_jupyter.html)). The core python code is also in `publications.py`. Run either from the `markdown_generator` folder after replacing `publications.tsv` with one containing your data.\n",
    "\n",
    "TODO: Make this work with BibTex and other databases of citations, rather than Stuart's non-standard TSV format and citation style.\n"
   ]
  },
  {
   "cell_type": "markdown",
   "metadata": {},
   "source": [
    "## Data format\n",
    "\n",
    "The TSV needs to have the following columns: pub_date, title, venue, excerpt, citation, site_url, and paper_url, with a header at the top. \n",
    "\n",
    "- `excerpt` and `paper_url` can be blank, but the others must have values. \n",
    "- `pub_date` must be formatted as YYYY-MM-DD.\n",
    "- `url_slug` will be the descriptive part of the .md file and the permalink URL for the page about the paper. The .md file will be `YYYY-MM-DD-[url_slug].md` and the permalink will be `https://[yourdomain]/publications/YYYY-MM-DD-[url_slug]`\n",
    "\n",
    "This is how the raw file looks (it doesn't look pretty, use a spreadsheet or other program to edit and create)."
   ]
  },
  {
   "cell_type": "code",
   "execution_count": 28,
   "metadata": {},
   "outputs": [
    {
     "name": "stdout",
     "output_type": "stream",
     "text": [
      "pub_date\ttitle\tvenue\texcerpt\tcitation\turl_slug\tpaper_url\r",
      "\r\n",
      "2011/07/01\tPerkembangan Pengetahuan Anak Usia Dini Melalui Permainan Komputer Edukatif (Studi Kasus TK Aisyiyah 3 Salatiga)\tJurnal KomuniTi\tPelaksanaan penelitian ini bertujuan untuk mengetahui pengaruh pemanfaatan teknologi komputer terhadap peningkatan kecerdasan dan kreatifitas anak didik TK dengan berbagai jenis permainan komputer edukatif.\t\"Nugroho, Y.S. (2011). \"\"Perkembangan Pengetahuan Anak Usia Dini Melalui Permainan Komputer Edukatif (Studi Kasus TK Aisyiyah 3 Salatiga)\"\". KomuniTi. 3(1).\"\tperkembangan-anak-usia-dini\thttp://journals.ums.ac.id/index.php/komuniti/article/view/2966/1901\r",
      "\r\n",
      "2013/09/02\t\"Analisa Kecepatan Proxy Squid, Safesquid dan Polipo Pada Ubuntu Server\"\tJurnal Emitor\t\"Penelitian ini untuk membandingkan beberapa sistem operasi pada proxy server yaitu squid, safesquid dan polipo untuk mendapatkan sistem operasi proxy server yang cocok pada jaringan yang dirancang.\"\t\"Al Irsyadi, F.Y., Nugroho, Y.S., Wuryanto, D. (2013). \"\"Analisa Kecepatan Proxy Squid, Safesquid dan Polipo Pada Ubuntu Server\"\". Emitor. 13(2).\"\tanalisis-squid-safesquid\thttps://publikasiilmiah.ums.ac.id/xmlui/handle/11617/4581\r",
      "\r\n",
      "2013/09/01\tSeleksi Sekolah Menengah Lanjutan Menggunakan Analytic Hierarchy Process\tJurnal KomuniTi\tPenelitian ini dilakukan dalam rangka mengembangkan suatu aplikasi sistem pendukung keputusan untuk membantu orang tua dalam memilih sekolah yang sesuai bagi anak dan memenuhi kriteria yang diinginkan oleh orang tua.\t\"Nugroho, Y.S., Ulinuha, A., Aji, N.N.S. (2013). \"\"Seleksi Sekolah Menengah Lanjutan Menggunakan Analytic Hierarchy Process\"\". KomuniTi. 5(2).\"\tseleksi-sml-dengan-ahp\thttps://publikasiilmiah.ums.ac.id/handle/11617/4496\r",
      "\r\n",
      "2014/03/01\tKlasifikasi Masa Studi Mahasiswa Fakultas Komunikasi dan Informatika UMS Menggunakan Algoritma C4.5\tJurnal KomuniTi\tPenelitian ini dilakukan untuk memanfaatkan data-data yang melimpah di UMS sebagai sumber informasi strategis bagi fakultas untuk mengklasifikasi masa studi mahasiswa dengan menggunakan teknik data mining. Klasifikasi masa studi terhadap data lulusan mahasiswa FKI UMS menggunakan metode Decision Tree dengan algoritma C4.5.\t\"Nugroho, Y.S., Setyawan. (2014). \"\"Klasifikasi Masa Studi Mahasiswa Fakultas Komunikasi dan Informatika UMS Menggunakan Algoritma C4.5\"\". KomuniTi. 6(1). \"\tklasifikasi-mhs-fki-c45\thttp://journals.ums.ac.id/index.php/komuniti/article/view/2946/1881\r",
      "\r\n",
      "2015/12/01\tAplikasi Pemrediksi Masa Studi dan Predikat Kelulusan Mahasiswa Informatika Universitas Muhammadiyah Surakarta Menggunakan Metode Naive Bayes.\tJurnal Khazanah Informatika\tPenelitian ini dilakukan untuk membuat suatu aplikasi untuk melakukan prediksi terhadap lama studi dan predikat kelulusan mahasiswa dengan menerapkan metode Naive Bayes.\t\"Nurrohmat, M.A., Nugroho, Y.S. (2015). \"\"Aplikasi Pemrediksi Masa Studi dan Predikat Kelulusan Mahasiswa Informatika Universitas Muhammadiyah Surakarta Menggunakan Metode Naive Bayes\"\". Khazanah Informatika. 1(1).\"\taplikasi-pemrediksi-kelulusan-mhs\thttp://journals.ums.ac.id/index.php/khif/article/view/1179/1028\r",
      "\r\n",
      "2015/12/01\tKlasifikasi dan Klastering Penjurusan Siswa SMA Negeri 3 Boyolali\tJurnal Khazanah Informatika\t\"Penerapan algoritma C4.5, Naive Bayes dan K-Means untuk membantu siswa dalam menentukan jurusan di sebuah sekolah menengah di Boyolali.\"\t\"Nugroho, Y.S., Haryati, S.N. (2015). \"\"Klasifikasi dan Klastering Penjurusan Siswa SMA Negeri 3 Boyolali\"\". Khazanah Informatika. 1(1)\"\tklasifikasi-penentuan-jurusan-sekolah\thttp://journals.ums.ac.id/index.php/khif/article/view/1175/1012\r",
      "\r\n",
      "2017/06/01\tSistem Klasifikasi Variabel Tingkat Penerimaan Konsumen Terhadap Mobil Menggunakan Metode Random Forest\tJurnal Teknik Elektro\tPengembangan sistem pengklasifikasi tingkat penerimaan mobil oleh konsumen menggunakan metode Random Forest (RF).\t\"Nugroho, Y.S., Emiliyawati, N. (2017). \"\"Sistem Klasifikasi Variabel Tingkat Penerimaan Konsumen Terhadap Mobil Menggunakan Metode Random Forest\"\". Jurnal Teknik Elektro. 9(1).\"\taplikasi-penerimaan-mobil-RF\thttps://journal.unnes.ac.id/nju/index.php/jte/article/view/10452/6660"
     ]
    }
   ],
   "source": [
    "!cat publications.tsv"
   ]
  },
  {
   "cell_type": "markdown",
   "metadata": {},
   "source": [
    "## Import pandas\n",
    "\n",
    "We are using the very handy pandas library for dataframes."
   ]
  },
  {
   "cell_type": "code",
   "execution_count": 29,
   "metadata": {
    "collapsed": true
   },
   "outputs": [],
   "source": [
    "import pandas as pd"
   ]
  },
  {
   "cell_type": "markdown",
   "metadata": {},
   "source": [
    "## Import TSV\n",
    "\n",
    "Pandas makes this easy with the read_csv function. We are using a TSV, so we specify the separator as a tab, or `\\t`.\n",
    "\n",
    "I found it important to put this data in a tab-separated values format, because there are a lot of commas in this kind of data and comma-separated values can get messed up. However, you can modify the import statement, as pandas also has read_excel(), read_json(), and others."
   ]
  },
  {
   "cell_type": "code",
   "execution_count": 30,
   "metadata": {
    "scrolled": false
   },
   "outputs": [
    {
     "data": {
      "text/html": [
       "<div>\n",
       "<style>\n",
       "    .dataframe thead tr:only-child th {\n",
       "        text-align: right;\n",
       "    }\n",
       "\n",
       "    .dataframe thead th {\n",
       "        text-align: left;\n",
       "    }\n",
       "\n",
       "    .dataframe tbody tr th {\n",
       "        vertical-align: top;\n",
       "    }\n",
       "</style>\n",
       "<table border=\"1\" class=\"dataframe\">\n",
       "  <thead>\n",
       "    <tr style=\"text-align: right;\">\n",
       "      <th></th>\n",
       "      <th>pub_date</th>\n",
       "      <th>title</th>\n",
       "      <th>venue</th>\n",
       "      <th>excerpt</th>\n",
       "      <th>citation</th>\n",
       "      <th>url_slug</th>\n",
       "      <th>paper_url</th>\n",
       "    </tr>\n",
       "  </thead>\n",
       "  <tbody>\n",
       "    <tr>\n",
       "      <th>0</th>\n",
       "      <td>2011/07/01</td>\n",
       "      <td>Perkembangan Pengetahuan Anak Usia Dini Melalu...</td>\n",
       "      <td>Jurnal KomuniTi</td>\n",
       "      <td>Pelaksanaan penelitian ini bertujuan untuk men...</td>\n",
       "      <td>Nugroho, Y.S. (2011). \"Perkembangan Pengetahua...</td>\n",
       "      <td>perkembangan-anak-usia-dini</td>\n",
       "      <td>http://journals.ums.ac.id/index.php/komuniti/a...</td>\n",
       "    </tr>\n",
       "    <tr>\n",
       "      <th>1</th>\n",
       "      <td>2013/09/02</td>\n",
       "      <td>Analisa Kecepatan Proxy Squid, Safesquid dan P...</td>\n",
       "      <td>Jurnal Emitor</td>\n",
       "      <td>Penelitian ini untuk membandingkan beberapa si...</td>\n",
       "      <td>Al Irsyadi, F.Y., Nugroho, Y.S., Wuryanto, D. ...</td>\n",
       "      <td>analisis-squid-safesquid</td>\n",
       "      <td>https://publikasiilmiah.ums.ac.id/xmlui/handle...</td>\n",
       "    </tr>\n",
       "    <tr>\n",
       "      <th>2</th>\n",
       "      <td>2013/09/01</td>\n",
       "      <td>Seleksi Sekolah Menengah Lanjutan Menggunakan ...</td>\n",
       "      <td>Jurnal KomuniTi</td>\n",
       "      <td>Penelitian ini dilakukan dalam rangka mengemba...</td>\n",
       "      <td>Nugroho, Y.S., Ulinuha, A., Aji, N.N.S. (2013)...</td>\n",
       "      <td>seleksi-sml-dengan-ahp</td>\n",
       "      <td>https://publikasiilmiah.ums.ac.id/handle/11617...</td>\n",
       "    </tr>\n",
       "    <tr>\n",
       "      <th>3</th>\n",
       "      <td>2014/03/01</td>\n",
       "      <td>Klasifikasi Masa Studi Mahasiswa Fakultas Komu...</td>\n",
       "      <td>Jurnal KomuniTi</td>\n",
       "      <td>Penelitian ini dilakukan untuk memanfaatkan da...</td>\n",
       "      <td>Nugroho, Y.S., Setyawan. (2014). \"Klasifikasi ...</td>\n",
       "      <td>klasifikasi-mhs-fki-c45</td>\n",
       "      <td>http://journals.ums.ac.id/index.php/komuniti/a...</td>\n",
       "    </tr>\n",
       "    <tr>\n",
       "      <th>4</th>\n",
       "      <td>2015/12/01</td>\n",
       "      <td>Aplikasi Pemrediksi Masa Studi dan Predikat Ke...</td>\n",
       "      <td>Jurnal Khazanah Informatika</td>\n",
       "      <td>Penelitian ini dilakukan untuk membuat suatu a...</td>\n",
       "      <td>Nurrohmat, M.A., Nugroho, Y.S. (2015). \"Aplika...</td>\n",
       "      <td>aplikasi-pemrediksi-kelulusan-mhs</td>\n",
       "      <td>http://journals.ums.ac.id/index.php/khif/artic...</td>\n",
       "    </tr>\n",
       "    <tr>\n",
       "      <th>5</th>\n",
       "      <td>2015/12/01</td>\n",
       "      <td>Klasifikasi dan Klastering Penjurusan Siswa SM...</td>\n",
       "      <td>Jurnal Khazanah Informatika</td>\n",
       "      <td>Penerapan algoritma C4.5, Naive Bayes dan K-Me...</td>\n",
       "      <td>Nugroho, Y.S., Haryati, S.N. (2015). \"Klasifik...</td>\n",
       "      <td>klasifikasi-penentuan-jurusan-sekolah</td>\n",
       "      <td>http://journals.ums.ac.id/index.php/khif/artic...</td>\n",
       "    </tr>\n",
       "    <tr>\n",
       "      <th>6</th>\n",
       "      <td>2017/06/01</td>\n",
       "      <td>Sistem Klasifikasi Variabel Tingkat Penerimaan...</td>\n",
       "      <td>Jurnal Teknik Elektro</td>\n",
       "      <td>Pengembangan sistem pengklasifikasi tingkat pe...</td>\n",
       "      <td>Nugroho, Y.S., Emiliyawati, N. (2017). \"Sistem...</td>\n",
       "      <td>aplikasi-penerimaan-mobil-RF</td>\n",
       "      <td>https://journal.unnes.ac.id/nju/index.php/jte/...</td>\n",
       "    </tr>\n",
       "  </tbody>\n",
       "</table>\n",
       "</div>"
      ],
      "text/plain": [
       "     pub_date                                              title  \\\n",
       "0  2011/07/01  Perkembangan Pengetahuan Anak Usia Dini Melalu...   \n",
       "1  2013/09/02  Analisa Kecepatan Proxy Squid, Safesquid dan P...   \n",
       "2  2013/09/01  Seleksi Sekolah Menengah Lanjutan Menggunakan ...   \n",
       "3  2014/03/01  Klasifikasi Masa Studi Mahasiswa Fakultas Komu...   \n",
       "4  2015/12/01  Aplikasi Pemrediksi Masa Studi dan Predikat Ke...   \n",
       "5  2015/12/01  Klasifikasi dan Klastering Penjurusan Siswa SM...   \n",
       "6  2017/06/01  Sistem Klasifikasi Variabel Tingkat Penerimaan...   \n",
       "\n",
       "                         venue  \\\n",
       "0              Jurnal KomuniTi   \n",
       "1                Jurnal Emitor   \n",
       "2              Jurnal KomuniTi   \n",
       "3              Jurnal KomuniTi   \n",
       "4  Jurnal Khazanah Informatika   \n",
       "5  Jurnal Khazanah Informatika   \n",
       "6        Jurnal Teknik Elektro   \n",
       "\n",
       "                                             excerpt  \\\n",
       "0  Pelaksanaan penelitian ini bertujuan untuk men...   \n",
       "1  Penelitian ini untuk membandingkan beberapa si...   \n",
       "2  Penelitian ini dilakukan dalam rangka mengemba...   \n",
       "3  Penelitian ini dilakukan untuk memanfaatkan da...   \n",
       "4  Penelitian ini dilakukan untuk membuat suatu a...   \n",
       "5  Penerapan algoritma C4.5, Naive Bayes dan K-Me...   \n",
       "6  Pengembangan sistem pengklasifikasi tingkat pe...   \n",
       "\n",
       "                                            citation  \\\n",
       "0  Nugroho, Y.S. (2011). \"Perkembangan Pengetahua...   \n",
       "1  Al Irsyadi, F.Y., Nugroho, Y.S., Wuryanto, D. ...   \n",
       "2  Nugroho, Y.S., Ulinuha, A., Aji, N.N.S. (2013)...   \n",
       "3  Nugroho, Y.S., Setyawan. (2014). \"Klasifikasi ...   \n",
       "4  Nurrohmat, M.A., Nugroho, Y.S. (2015). \"Aplika...   \n",
       "5  Nugroho, Y.S., Haryati, S.N. (2015). \"Klasifik...   \n",
       "6  Nugroho, Y.S., Emiliyawati, N. (2017). \"Sistem...   \n",
       "\n",
       "                                url_slug  \\\n",
       "0            perkembangan-anak-usia-dini   \n",
       "1               analisis-squid-safesquid   \n",
       "2                 seleksi-sml-dengan-ahp   \n",
       "3                klasifikasi-mhs-fki-c45   \n",
       "4      aplikasi-pemrediksi-kelulusan-mhs   \n",
       "5  klasifikasi-penentuan-jurusan-sekolah   \n",
       "6           aplikasi-penerimaan-mobil-RF   \n",
       "\n",
       "                                           paper_url  \n",
       "0  http://journals.ums.ac.id/index.php/komuniti/a...  \n",
       "1  https://publikasiilmiah.ums.ac.id/xmlui/handle...  \n",
       "2  https://publikasiilmiah.ums.ac.id/handle/11617...  \n",
       "3  http://journals.ums.ac.id/index.php/komuniti/a...  \n",
       "4  http://journals.ums.ac.id/index.php/khif/artic...  \n",
       "5  http://journals.ums.ac.id/index.php/khif/artic...  \n",
       "6  https://journal.unnes.ac.id/nju/index.php/jte/...  "
      ]
     },
     "execution_count": 30,
     "metadata": {},
     "output_type": "execute_result"
    }
   ],
   "source": [
    "publications = pd.read_csv(\"publications.tsv\", sep=\"\\t\", header=0, encoding='latin-1')\n",
    "publications\n"
   ]
  },
  {
   "cell_type": "markdown",
   "metadata": {},
   "source": [
    "## Escape special characters\n",
    "\n",
    "YAML is very picky about how it takes a valid string, so we are replacing single and double quotes (and ampersands) with their HTML encoded equivilents. This makes them look not so readable in raw format, but they are parsed and rendered nicely."
   ]
  },
  {
   "cell_type": "code",
   "execution_count": 31,
   "metadata": {
    "collapsed": true
   },
   "outputs": [],
   "source": [
    "html_escape_table = {\n",
    "    \"&\": \"&amp;\",\n",
    "    '\"': \"&quot;\",\n",
    "    \"'\": \"&apos;\"\n",
    "    }\n",
    "\n",
    "def html_escape(text):\n",
    "    \"\"\"Produce entities within text.\"\"\"\n",
    "    return \"\".join(html_escape_table.get(c,c) for c in text)"
   ]
  },
  {
   "cell_type": "markdown",
   "metadata": {},
   "source": [
    "## Creating the markdown files\n",
    "\n",
    "This is where the heavy lifting is done. This loops through all the rows in the TSV dataframe, then starts to concatentate a big string (```md```) that contains the markdown for each type. It does the YAML metadata first, then does the description for the individual page."
   ]
  },
  {
   "cell_type": "code",
   "execution_count": 32,
   "metadata": {},
   "outputs": [],
   "source": [
    "import os\n",
    "for row, item in publications.iterrows():\n",
    "    \n",
    "    md_filename = str(item.pub_date) + \"-\" + item.url_slug + \".md\"\n",
    "    html_filename = str(item.pub_date) + \"-\" + item.url_slug\n",
    "    year = item.pub_date[:4]\n",
    "    \n",
    "    ## YAML variables\n",
    "    \n",
    "    md = \"---\\ntitle: \\\"\"   + item.title + '\"\\n'\n",
    "    \n",
    "    md += \"\"\"collection: publications\"\"\"\n",
    "    \n",
    "    md += \"\"\"\\npermalink: /publication/\"\"\" + html_filename\n",
    "    \n",
    "    if len(str(item.excerpt)) > 5:\n",
    "        md += \"\\nexcerpt: '\" + html_escape(item.excerpt) + \"'\"\n",
    "    \n",
    "    md += \"\\ndate: \" + str(item.pub_date) \n",
    "    \n",
    "    md += \"\\nvenue: '\" + html_escape(item.venue) + \"'\"\n",
    "    \n",
    "    if len(str(item.paper_url)) > 5:\n",
    "        md += \"\\npaperurl: '\" + item.paper_url + \"'\"\n",
    "    \n",
    "    md += \"\\ncitation: '\" + html_escape(item.citation) + \"'\"\n",
    "    \n",
    "    md += \"\\n---\"\n",
    "    \n",
    "    ## Markdown description for individual page\n",
    "        \n",
    "    if len(str(item.excerpt)) > 5:\n",
    "        md += \"\\n\" + html_escape(item.excerpt) + \"\\n\"\n",
    "    \n",
    "    if len(str(item.paper_url)) > 5:\n",
    "        md += \"\\n[Download paper here](\" + item.paper_url + \")\\n\" \n",
    "        \n",
    "    md += \"\\nRecommended citation: \" + item.citation\n",
    "    \n",
    "    md_filename = os.path.basename(md_filename)\n",
    "       \n",
    "    with open(\"../_publications/\" + md_filename, 'w') as f:\n",
    "        f.write(md)"
   ]
  },
  {
   "cell_type": "markdown",
   "metadata": {},
   "source": [
    "These files are in the publications directory, one directory below where we're working from."
   ]
  },
  {
   "cell_type": "code",
   "execution_count": 33,
   "metadata": {},
   "outputs": [
    {
     "name": "stdout",
     "output_type": "stream",
     "text": [
      "01-aplikasi-pemrediksi-kelulusan-mhs.md\r\n",
      "01-aplikasi-penerimaan-mobil-RF.md\r\n",
      "01-klasifikasi-mhs-fki-c45.md\r\n",
      "01-klasifikasi-penentuan-jurusan-sekolah.md\r\n",
      "01-perkembangan-anak-usia-dini.md\r\n",
      "01-seleksi-sml-dengan-ahp.md\r\n",
      "02-analisis-squid-safesquid.md\r\n"
     ]
    }
   ],
   "source": [
    "!ls ../_publications/"
   ]
  },
  {
   "cell_type": "code",
   "execution_count": 34,
   "metadata": {},
   "outputs": [
    {
     "name": "stdout",
     "output_type": "stream",
     "text": [
      "---\r\n",
      "title: \"Aplikasi Pemrediksi Masa Studi dan Predikat Kelulusan Mahasiswa Informatika Universitas Muhammadiyah Surakarta Menggunakan Metode Naive Bayes.\"\r\n",
      "collection: publications\r\n",
      "permalink: /publication/2015/12/01-aplikasi-pemrediksi-kelulusan-mhs\r\n",
      "excerpt: 'Penelitian ini dilakukan untuk membuat suatu aplikasi untuk melakukan prediksi terhadap lama studi dan predikat kelulusan mahasiswa dengan menerapkan metode Naive Bayes.'\r\n",
      "date: 2015/12/01\r\n",
      "venue: 'Jurnal Khazanah Informatika'\r\n",
      "paperurl: 'http://journals.ums.ac.id/index.php/khif/article/view/1179/1028'\r\n",
      "citation: 'Nurrohmat, M.A., Nugroho, Y.S. (2015). &quot;Aplikasi Pemrediksi Masa Studi dan Predikat Kelulusan Mahasiswa Informatika Universitas Muhammadiyah Surakarta Menggunakan Metode Naive Bayes&quot;. Khazanah Informatika. 1(1).'\r\n",
      "---\r\n",
      "Penelitian ini dilakukan untuk membuat suatu aplikasi untuk melakukan prediksi terhadap lama studi dan predikat kelulusan mahasiswa dengan menerapkan metode Naive Bayes.\r\n",
      "\r\n",
      "[Download paper here](http://journals.ums.ac.id/index.php/khif/article/view/1179/1028)\r\n",
      "\r\n",
      "Recommended citation: Nurrohmat, M.A., Nugroho, Y.S. (2015). \"Aplikasi Pemrediksi Masa Studi dan Predikat Kelulusan Mahasiswa Informatika Universitas Muhammadiyah Surakarta Menggunakan Metode Naive Bayes\". Khazanah Informatika. 1(1)."
     ]
    }
   ],
   "source": [
    "!cat ../_publications/01-aplikasi-pemrediksi-kelulusan-mhs.md"
   ]
  },
  {
   "cell_type": "code",
   "execution_count": null,
   "metadata": {
    "collapsed": true
   },
   "outputs": [],
   "source": []
  }
 ],
 "metadata": {
  "kernelspec": {
   "display_name": "Python 3",
   "language": "python",
   "name": "python3"
  },
  "language_info": {
   "codemirror_mode": {
    "name": "ipython",
    "version": 3
   },
   "file_extension": ".py",
   "mimetype": "text/x-python",
   "name": "python",
   "nbconvert_exporter": "python",
   "pygments_lexer": "ipython3",
   "version": "3.6.3"
  }
 },
 "nbformat": 4,
 "nbformat_minor": 1
}
